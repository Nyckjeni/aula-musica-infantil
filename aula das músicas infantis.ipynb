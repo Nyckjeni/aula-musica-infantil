{
 "cells": [
  {
   "cell_type": "code",
   "execution_count": 1,
   "metadata": {},
   "outputs": [
    {
     "name": "stdout",
     "output_type": "stream",
     "text": [
      "1 elefante incomodam muita gente, 2 incomodamincomodam  muito mais\n",
      "2 elefante incomodam muita gente, 3 incomodamincomodamincomodam  muito mais\n",
      "3 elefante incomodam muita gente, 4 incomodamincomodamincomodamincomodam  muito mais\n",
      "4 elefante incomodam muita gente, 5 incomodamincomodamincomodamincomodamincomodam  muito mais\n",
      "5 elefante incomodam muita gente, 6 incomodamincomodamincomodamincomodamincomodamincomodam  muito mais\n",
      "6 elefante incomodam muita gente, 7 incomodamincomodamincomodamincomodamincomodamincomodamincomodam  muito mais\n",
      "7 elefante incomodam muita gente, 8 incomodamincomodamincomodamincomodamincomodamincomodamincomodamincomodam  muito mais\n",
      "8 elefante incomodam muita gente, 9 incomodamincomodamincomodamincomodamincomodamincomodamincomodamincomodamincomodam  muito mais\n",
      "9 elefante incomodam muita gente, 10 incomodamincomodamincomodamincomodamincomodamincomodamincomodamincomodamincomodamincomodam  muito mais\n",
      "10 elefante incomodam muita gente, 11 incomodamincomodamincomodamincomodamincomodamincomodamincomodamincomodamincomodamincomodamincomodam  muito mais\n"
     ]
    }
   ],
   "source": [
    "for elefantes in [1,2,3,4,5,6,7,8,9,10]:\n",
    "    letra = 'incomodam' \n",
    "    resultado = letra * (elefantes+1)\n",
    "    print(elefantes, 'elefante incomodam muita gente,', elefantes+1, resultado , ' muito mais')\n"
   ]
  },
  {
   "cell_type": "code",
   "execution_count": null,
   "metadata": {},
   "outputs": [],
   "source": []
  }
 ],
 "metadata": {
  "kernelspec": {
   "display_name": "Python 3",
   "language": "python",
   "name": "python3"
  },
  "language_info": {
   "codemirror_mode": {
    "name": "ipython",
    "version": 3
   },
   "file_extension": ".py",
   "mimetype": "text/x-python",
   "name": "python",
   "nbconvert_exporter": "python",
   "pygments_lexer": "ipython3",
   "version": "3.12.3"
  }
 },
 "nbformat": 4,
 "nbformat_minor": 2
}
